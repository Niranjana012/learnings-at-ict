{
 "cells": [
  {
   "cell_type": "code",
   "execution_count": 14,
   "id": "0cc45c97-a60f-4bfc-88e0-b79d5ac7e6cb",
   "metadata": {},
   "outputs": [
    {
     "name": "stdout",
     "output_type": "stream",
     "text": [
      "2024\n"
     ]
    }
   ],
   "source": [
    "year=2024\n",
    "print(year)  #this is the current year"
   ]
  },
  {
   "cell_type": "code",
   "execution_count": 16,
   "id": "93e65486-57d8-445f-bfdd-1651b2052161",
   "metadata": {},
   "outputs": [
    {
     "name": "stdout",
     "output_type": "stream",
     "text": [
      "2024 november\n"
     ]
    }
   ],
   "source": [
    "print(\"2024 november\")    #current year with month"
   ]
  },
  {
   "cell_type": "code",
   "execution_count": 18,
   "id": "16541760-77fa-4fe6-a5b7-97628918b549",
   "metadata": {},
   "outputs": [
    {
     "name": "stdout",
     "output_type": "stream",
     "text": [
      "2024 november\n"
     ]
    }
   ],
   "source": [
    "print('2024 november')   #single quates can also used"
   ]
  },
  {
   "cell_type": "markdown",
   "id": "f47c3658-ad06-48f2-a62d-31082966e58d",
   "metadata": {},
   "source": [
    "# data types"
   ]
  },
  {
   "cell_type": "markdown",
   "id": "f5835b83-373c-46e7-a0f9-7451d08287ef",
   "metadata": {},
   "source": [
    " # 1) numeric type are of integer type,floating type and complex"
   ]
  },
  {
   "cell_type": "code",
   "execution_count": 20,
   "id": "9d26f0ae-df1a-4114-b8b4-da5fed0b911a",
   "metadata": {},
   "outputs": [
    {
     "data": {
      "text/plain": [
       "int"
      ]
     },
     "execution_count": 20,
     "metadata": {},
     "output_type": "execute_result"
    }
   ],
   "source": [
    "10\n",
    "type(10)      #integer type"
   ]
  },
  {
   "cell_type": "code",
   "execution_count": 22,
   "id": "20981390-af3d-4fad-9a1f-0b5c831d7019",
   "metadata": {},
   "outputs": [
    {
     "data": {
      "text/plain": [
       "str"
      ]
     },
     "execution_count": 22,
     "metadata": {},
     "output_type": "execute_result"
    }
   ],
   "source": [
    "type(\"10\")    "
   ]
  },
  {
   "cell_type": "code",
   "execution_count": 26,
   "id": "15cbb148-083a-4cbc-acea-6b6734ec835a",
   "metadata": {},
   "outputs": [
    {
     "name": "stdout",
     "output_type": "stream",
     "text": [
      "a\n",
      "10\n"
     ]
    }
   ],
   "source": [
    "a=10\n",
    "print(\"a\")\n",
    "print(a)"
   ]
  },
  {
   "cell_type": "code",
   "execution_count": 30,
   "id": "14b4227e-131b-4986-bf73-1ac4e8c7017d",
   "metadata": {},
   "outputs": [
    {
     "data": {
      "text/plain": [
       "float"
      ]
     },
     "execution_count": 30,
     "metadata": {},
     "output_type": "execute_result"
    }
   ],
   "source": [
    "d=3.\n",
    "type(d)    #floating point  "
   ]
  },
  {
   "cell_type": "code",
   "execution_count": 37,
   "id": "79c94298-1ce9-4965-a17c-67085da20bdf",
   "metadata": {},
   "outputs": [
    {
     "data": {
      "text/plain": [
       "(3+4j)"
      ]
     },
     "execution_count": 37,
     "metadata": {},
     "output_type": "execute_result"
    }
   ],
   "source": [
    "c=3+4j\n",
    "c         #complex type"
   ]
  },
  {
   "cell_type": "code",
   "execution_count": 39,
   "id": "1225573a-1f52-424a-9151-354d408f0d25",
   "metadata": {},
   "outputs": [
    {
     "name": "stdout",
     "output_type": "stream",
     "text": [
      "(3+4j)\n"
     ]
    }
   ],
   "source": [
    "print(c)"
   ]
  },
  {
   "cell_type": "code",
   "execution_count": 42,
   "id": "dc5d9943-00cc-4ab9-9130-bb106d61db6f",
   "metadata": {},
   "outputs": [
    {
     "data": {
      "text/plain": [
       "(3+4j)"
      ]
     },
     "execution_count": 42,
     "metadata": {},
     "output_type": "execute_result"
    }
   ],
   "source": [
    "c"
   ]
  },
  {
   "cell_type": "code",
   "execution_count": 46,
   "id": "9555ca2b-ab1e-4f98-874b-d2b1c4d5ce42",
   "metadata": {},
   "outputs": [
    {
     "data": {
      "text/plain": [
       "4j"
      ]
     },
     "execution_count": 46,
     "metadata": {},
     "output_type": "execute_result"
    }
   ],
   "source": [
    "c=4j \n",
    "c"
   ]
  },
  {
   "cell_type": "code",
   "execution_count": 52,
   "id": "df698413-69bc-4e2d-bd5b-659ef84beaab",
   "metadata": {},
   "outputs": [
    {
     "name": "stdout",
     "output_type": "stream",
     "text": [
      "4j\n"
     ]
    }
   ],
   "source": [
    "c=4j\n",
    "print(c)"
   ]
  },
  {
   "cell_type": "code",
   "execution_count": 54,
   "id": "8772f441-2e73-4042-b3d7-1c1cbc53fcc9",
   "metadata": {},
   "outputs": [
    {
     "data": {
      "text/plain": [
       "int"
      ]
     },
     "execution_count": 54,
     "metadata": {},
     "output_type": "execute_result"
    }
   ],
   "source": [
    "type(0)"
   ]
  },
  {
   "cell_type": "markdown",
   "id": "3106a533-05ee-49d6-861e-d7741a724cd0",
   "metadata": {},
   "source": [
    "# 2) text data type"
   ]
  },
  {
   "cell_type": "code",
   "execution_count": 59,
   "id": "fe331bfb-7666-4bfe-af8e-38dec465cae3",
   "metadata": {},
   "outputs": [
    {
     "data": {
      "text/plain": [
       "str"
      ]
     },
     "execution_count": 59,
     "metadata": {},
     "output_type": "execute_result"
    }
   ],
   "source": [
    "month=\"november\"        #string\n",
    "type(month)"
   ]
  },
  {
   "cell_type": "code",
   "execution_count": 61,
   "id": "a54601ca-5ae3-41b1-bee3-84410cfef156",
   "metadata": {},
   "outputs": [
    {
     "data": {
      "text/plain": [
       "8"
      ]
     },
     "execution_count": 61,
     "metadata": {},
     "output_type": "execute_result"
    }
   ],
   "source": [
    "len(month)"
   ]
  },
  {
   "cell_type": "code",
   "execution_count": 63,
   "id": "30d0be77-403b-423d-ac59-33c00aebd5a9",
   "metadata": {},
   "outputs": [
    {
     "data": {
      "text/plain": [
       "str"
      ]
     },
     "execution_count": 63,
     "metadata": {},
     "output_type": "execute_result"
    }
   ],
   "source": [
    "type(\"december\")"
   ]
  },
  {
   "cell_type": "markdown",
   "id": "1c1d0028-c156-45f5-828c-48a0bcf884e2",
   "metadata": {},
   "source": [
    "# 3) sequence data type"
   ]
  },
  {
   "cell_type": "code",
   "execution_count": 93,
   "id": "9513c2aa-9d11-462a-bee7-ea6390261919",
   "metadata": {},
   "outputs": [
    {
     "name": "stdout",
     "output_type": "stream",
     "text": [
      "[0, 1, 2, 3, 4, 5, 6, 7, 8, 9]\n"
     ]
    }
   ],
   "source": [
    "digits=[0, 1, 2, 3, 4, 5, 6, 7, 8, 9]    #these are list\n",
    "vowels=['a', 'e', 'i', 'o', 'u'] #uses quates for string or character in list\n",
    "print(digits)"
   ]
  },
  {
   "cell_type": "code",
   "execution_count": 85,
   "id": "093a5777-f949-4dbd-a0ba-e4e75a1c8151",
   "metadata": {},
   "outputs": [
    {
     "name": "stdout",
     "output_type": "stream",
     "text": [
      "['a', 'e', 'i', 'o', 'u']\n"
     ]
    }
   ],
   "source": [
    "print(vowels)"
   ]
  },
  {
   "cell_type": "code",
   "execution_count": 95,
   "id": "86b759e9-7a5d-4792-9efe-ede17a3d4a4b",
   "metadata": {},
   "outputs": [
    {
     "data": {
      "text/plain": [
       "10"
      ]
     },
     "execution_count": 95,
     "metadata": {},
     "output_type": "execute_result"
    }
   ],
   "source": [
    "len(digits)"
   ]
  },
  {
   "cell_type": "code",
   "execution_count": 97,
   "id": "e333bcc8-520d-44dd-9651-83c1699c0700",
   "metadata": {},
   "outputs": [
    {
     "data": {
      "text/plain": [
       "5"
      ]
     },
     "execution_count": 97,
     "metadata": {},
     "output_type": "execute_result"
    }
   ],
   "source": [
    "len(vowels)"
   ]
  },
  {
   "cell_type": "code",
   "execution_count": 101,
   "id": "41e809a4-183c-4f43-9935-ba67ce64d80a",
   "metadata": {},
   "outputs": [
    {
     "name": "stdout",
     "output_type": "stream",
     "text": [
      "[[2, 4, 6], [3, 5, 7]]\n"
     ]
    },
    {
     "data": {
      "text/plain": [
       "2"
      ]
     },
     "execution_count": 101,
     "metadata": {},
     "output_type": "execute_result"
    }
   ],
   "source": [
    "digits=[[2,4,6],[3, 5, 7]]     #lists inside list (1)\n",
    "print(digits)\n",
    "len(digits)"
   ]
  },
  {
   "cell_type": "code",
   "execution_count": 103,
   "id": "81c6281f-645a-401c-9c67-3f8abbedcf38",
   "metadata": {},
   "outputs": [
    {
     "data": {
      "text/plain": [
       "4"
      ]
     },
     "execution_count": 103,
     "metadata": {},
     "output_type": "execute_result"
    }
   ],
   "source": [
    "odd_digits=[1,3,5,7]\n",
    "even_digits=[2,4,6] \n",
    "len(odd_digits) "
   ]
  },
  {
   "cell_type": "code",
   "execution_count": 105,
   "id": "2e08bc1e-facb-4aa1-ac09-5fd5624770b5",
   "metadata": {},
   "outputs": [
    {
     "data": {
      "text/plain": [
       "3"
      ]
     },
     "execution_count": 105,
     "metadata": {},
     "output_type": "execute_result"
    }
   ],
   "source": [
    "len(even_digits)"
   ]
  },
  {
   "cell_type": "code",
   "execution_count": 109,
   "id": "52665de1-b529-4369-8399-9cdb0540f3a3",
   "metadata": {},
   "outputs": [
    {
     "name": "stdout",
     "output_type": "stream",
     "text": [
      "a\n",
      "o\n"
     ]
    }
   ],
   "source": [
    "print(vowels[0]) \n",
    "print(vowels[3]) "
   ]
  },
  {
   "cell_type": "code",
   "execution_count": 111,
   "id": "ee581921-4f4c-41d9-93ac-89774bee665e",
   "metadata": {},
   "outputs": [
    {
     "name": "stdout",
     "output_type": "stream",
     "text": [
      "21\n"
     ]
    }
   ],
   "source": [
    "institute='ict academy of kerala'\n",
    "print(len(institute))"
   ]
  },
  {
   "cell_type": "code",
   "execution_count": 113,
   "id": "d72f2e8b-5cb8-454f-b095-c7d5a1f0c2e7",
   "metadata": {},
   "outputs": [
    {
     "data": {
      "text/plain": [
       "21"
      ]
     },
     "execution_count": 113,
     "metadata": {},
     "output_type": "execute_result"
    }
   ],
   "source": [
    "len(institute)"
   ]
  },
  {
   "cell_type": "code",
   "execution_count": 123,
   "id": "769c552b-1f38-465a-86d4-433f591a1239",
   "metadata": {},
   "outputs": [
    {
     "name": "stdout",
     "output_type": "stream",
     "text": [
      "ict academy of kerala\n"
     ]
    }
   ],
   "source": [
    "print(institute)"
   ]
  },
  {
   "cell_type": "code",
   "execution_count": 127,
   "id": "c0d252e6-a91e-4d7b-9b54-e594454267e2",
   "metadata": {},
   "outputs": [
    {
     "name": "stdout",
     "output_type": "stream",
     "text": [
      "['apple', 50, 'orange']\n"
     ]
    }
   ],
   "source": [
    "grocery=['apple', 50, 'orange']\n",
    "print(grocery)"
   ]
  },
  {
   "cell_type": "code",
   "execution_count": 138,
   "id": "46a1959d-1c2f-43ce-9b3e-8ed104bc8f3a",
   "metadata": {},
   "outputs": [
    {
     "name": "stdout",
     "output_type": "stream",
     "text": [
      "['apple', 50, 'orange', 20, 20, 60, 60, 60]\n"
     ]
    }
   ],
   "source": [
    "grocery.append(60)      #append function \n",
    "print(grocery)           "
   ]
  },
  {
   "cell_type": "code",
   "execution_count": 160,
   "id": "c6f39eae-484a-498b-b51a-30de5d1a66ef",
   "metadata": {},
   "outputs": [
    {
     "name": "stdout",
     "output_type": "stream",
     "text": [
      "['apple', 50, 'orange', 20, 20, 60, 60, 60, 'grapes', 'grapes', 'grapes', 'banana', 'banana', 'banana']\n"
     ]
    }
   ],
   "source": [
    "grocery.append('banana')\n",
    "print(grocery)"
   ]
  },
  {
   "cell_type": "code",
   "execution_count": 162,
   "id": "8a0453b6-d6d2-4ba3-85a5-36d0d6daa405",
   "metadata": {},
   "outputs": [
    {
     "data": {
      "text/plain": [
       "'orange'"
      ]
     },
     "execution_count": 162,
     "metadata": {},
     "output_type": "execute_result"
    }
   ],
   "source": [
    "grocery[2]"
   ]
  },
  {
   "cell_type": "code",
   "execution_count": 164,
   "id": "9691b140-0da1-47ab-be12-c7f42c39d869",
   "metadata": {},
   "outputs": [
    {
     "data": {
      "text/plain": [
       "'apple'"
      ]
     },
     "execution_count": 164,
     "metadata": {},
     "output_type": "execute_result"
    }
   ],
   "source": [
    "grocery[0] "
   ]
  },
  {
   "cell_type": "code",
   "execution_count": 174,
   "id": "05c0342e-5a50-47bb-a05f-95b8db297562",
   "metadata": {},
   "outputs": [],
   "source": [
    "grocery[0]=560"
   ]
  },
  {
   "cell_type": "code",
   "execution_count": 176,
   "id": "f24e1f35-ff78-43e5-9723-e1022b3bc866",
   "metadata": {},
   "outputs": [
    {
     "name": "stdout",
     "output_type": "stream",
     "text": [
      "560\n"
     ]
    }
   ],
   "source": [
    "print(grocery[0])"
   ]
  },
  {
   "cell_type": "code",
   "execution_count": 170,
   "id": "8602bce4-e91c-4f1d-a298-746bca644cd4",
   "metadata": {},
   "outputs": [
    {
     "data": {
      "text/plain": [
       "1"
      ]
     },
     "execution_count": 170,
     "metadata": {},
     "output_type": "execute_result"
    }
   ],
   "source": [
    "myTuple=(1, 2, 3, 4, 5)           #tuple(2)\n",
    "myTuple[0]"
   ]
  },
  {
   "cell_type": "code",
   "execution_count": 178,
   "id": "8715cd27-8048-44d6-95de-511c3f4a7d27",
   "metadata": {},
   "outputs": [
    {
     "ename": "TypeError",
     "evalue": "'tuple' object does not support item assignment",
     "output_type": "error",
     "traceback": [
      "\u001b[1;31m---------------------------------------------------------------------------\u001b[0m",
      "\u001b[1;31mTypeError\u001b[0m                                 Traceback (most recent call last)",
      "Cell \u001b[1;32mIn[178], line 1\u001b[0m\n\u001b[1;32m----> 1\u001b[0m myTuple[\u001b[38;5;241m0\u001b[39m]\u001b[38;5;241m=\u001b[39m\u001b[38;5;241m530\u001b[39m\n",
      "\u001b[1;31mTypeError\u001b[0m: 'tuple' object does not support item assignment"
     ]
    }
   ],
   "source": [
    "myTuple[0]=530"
   ]
  },
  {
   "cell_type": "code",
   "execution_count": 180,
   "id": "a08e80e5-91dc-4d26-9da1-2c031c82f2b8",
   "metadata": {},
   "outputs": [
    {
     "name": "stdout",
     "output_type": "stream",
     "text": [
      "('apple', 40)\n"
     ]
    }
   ],
   "source": [
    "mytuple=('apple',40) \n",
    "print(mytuple)"
   ]
  },
  {
   "cell_type": "code",
   "execution_count": 182,
   "id": "d9891295-8b07-49f9-bfe9-07b4503b8606",
   "metadata": {},
   "outputs": [
    {
     "name": "stdout",
     "output_type": "stream",
     "text": [
      "(40, 20, 30)\n"
     ]
    }
   ],
   "source": [
    "tuple=(40, 20, 30)\n",
    "print(tuple)"
   ]
  },
  {
   "cell_type": "code",
   "execution_count": 184,
   "id": "bafa0aed-d563-410e-aa27-c03c69f79e30",
   "metadata": {},
   "outputs": [
    {
     "ename": "TypeError",
     "evalue": "'tuple' object does not support item assignment",
     "output_type": "error",
     "traceback": [
      "\u001b[1;31m---------------------------------------------------------------------------\u001b[0m",
      "\u001b[1;31mTypeError\u001b[0m                                 Traceback (most recent call last)",
      "Cell \u001b[1;32mIn[184], line 1\u001b[0m\n\u001b[1;32m----> 1\u001b[0m \u001b[38;5;28mtuple\u001b[39m[\u001b[38;5;241m0\u001b[39m]\u001b[38;5;241m=\u001b[39m\u001b[38;5;241m60\u001b[39m\n",
      "\u001b[1;31mTypeError\u001b[0m: 'tuple' object does not support item assignment"
     ]
    }
   ],
   "source": [
    "tuple[0]=60\n"
   ]
  },
  {
   "cell_type": "code",
   "execution_count": null,
   "id": "84820f05-891a-4d15-b304-ac108b83aff2",
   "metadata": {},
   "outputs": [],
   "source": [
    "#range                                    #range(3)"
   ]
  },
  {
   "cell_type": "code",
   "execution_count": 186,
   "id": "bb5a2ed4-2def-4ee4-83f2-da306ed0fe72",
   "metadata": {},
   "outputs": [],
   "source": [
    "start=0\n",
    "stop=5\n",
    "step=1"
   ]
  },
  {
   "cell_type": "code",
   "execution_count": 192,
   "id": "a5f61f6d-1f1e-45eb-afc1-9bb5b4490abe",
   "metadata": {},
   "outputs": [
    {
     "data": {
      "text/plain": [
       "[0, 1, 2, 3, 4]"
      ]
     },
     "execution_count": 192,
     "metadata": {},
     "output_type": "execute_result"
    }
   ],
   "source": [
    "list(range(0,5))"
   ]
  },
  {
   "cell_type": "code",
   "execution_count": 194,
   "id": "ed35698a-d426-4738-8a77-f579953cbaaa",
   "metadata": {},
   "outputs": [
    {
     "data": {
      "text/plain": [
       "range"
      ]
     },
     "execution_count": 194,
     "metadata": {},
     "output_type": "execute_result"
    }
   ],
   "source": [
    "type(range(stop))"
   ]
  },
  {
   "cell_type": "code",
   "execution_count": 196,
   "id": "391b65b1-ed7e-43e4-be53-c1811891b1f5",
   "metadata": {},
   "outputs": [
    {
     "data": {
      "text/plain": [
       "range"
      ]
     },
     "execution_count": 196,
     "metadata": {},
     "output_type": "execute_result"
    }
   ],
   "source": [
    "type(range(step))"
   ]
  },
  {
   "cell_type": "code",
   "execution_count": 198,
   "id": "f106d8ea-dec6-4669-aa78-22041c724037",
   "metadata": {},
   "outputs": [
    {
     "data": {
      "text/plain": [
       "[2, 4, 6, 8]"
      ]
     },
     "execution_count": 198,
     "metadata": {},
     "output_type": "execute_result"
    }
   ],
   "source": [
    "list(range(2,10,2))"
   ]
  },
  {
   "cell_type": "code",
   "execution_count": 208,
   "id": "5bd77d5d-a106-4f73-ae5a-83ec1abb7a1f",
   "metadata": {},
   "outputs": [
    {
     "data": {
      "text/plain": [
       "[3, 6, 9, 12, 15]"
      ]
     },
     "execution_count": 208,
     "metadata": {},
     "output_type": "execute_result"
    }
   ],
   "source": [
    "range(3,18,3)\n",
    "list(range(3,18,3))"
   ]
  },
  {
   "cell_type": "code",
   "execution_count": 212,
   "id": "6ea794f8-4c39-4b26-9925-f41609682a12",
   "metadata": {},
   "outputs": [
    {
     "data": {
      "text/plain": [
       "[10, 9, 8, 7, 6, 5, 4, 3, 2, 1]"
      ]
     },
     "execution_count": 212,
     "metadata": {},
     "output_type": "execute_result"
    }
   ],
   "source": [
    "start=10\n",
    "stop=0\n",
    "step=-1\n",
    "list(range(10,0,-1))"
   ]
  },
  {
   "cell_type": "markdown",
   "id": "9c6393b4-15a7-4f87-878f-1b1ae83dc8c6",
   "metadata": {},
   "source": [
    "# Data structures"
   ]
  },
  {
   "cell_type": "code",
   "execution_count": 218,
   "id": "ee58254d-4484-47f4-9c4d-bddecade97e8",
   "metadata": {},
   "outputs": [],
   "source": [
    "# a dictionary"
   ]
  },
  {
   "cell_type": "code",
   "execution_count": 234,
   "id": "75929e9c-2370-425c-8d7a-1f1cf28c472b",
   "metadata": {},
   "outputs": [
    {
     "name": "stdout",
     "output_type": "stream",
     "text": [
      "{'institute': 'ict', 'city': 'tvm'}\n"
     ]
    }
   ],
   "source": [
    "data={\n",
    "    \"institute\":\"ict\",\n",
    "    'city':'tvm'\n",
    "} \n",
    "print(data)"
   ]
  },
  {
   "cell_type": "code",
   "execution_count": 236,
   "id": "29eea017-5258-4c0a-aad5-0cbc4b8036e3",
   "metadata": {},
   "outputs": [
    {
     "name": "stdout",
     "output_type": "stream",
     "text": [
      "{'name': 'niranjana', 'age': 22, 'phone': 99999999999}\n"
     ]
    }
   ],
   "source": [
    "contact={'name':'niranjana',\n",
    "         'age':22,\n",
    "         'phone':99999999999\n",
    "} \n",
    "print(contact)"
   ]
  },
  {
   "cell_type": "code",
   "execution_count": 242,
   "id": "af75a920-6ae1-4977-93b7-d2dde2e82a73",
   "metadata": {},
   "outputs": [
    {
     "data": {
      "text/plain": [
       "'niranjana'"
      ]
     },
     "execution_count": 242,
     "metadata": {},
     "output_type": "execute_result"
    }
   ],
   "source": [
    "contact['name']"
   ]
  },
  {
   "cell_type": "code",
   "execution_count": 246,
   "id": "ec78dd13-9ef6-46d1-8274-5b291865e35c",
   "metadata": {},
   "outputs": [
    {
     "name": "stdout",
     "output_type": "stream",
     "text": [
      "{'name': 'niranjana', 'age': 22, 'phone': 99999999999, 'state': 'kerala'}\n"
     ]
    }
   ],
   "source": [
    "contact[\"state\"]='kerala' \n",
    "print(contact)"
   ]
  },
  {
   "cell_type": "code",
   "execution_count": 248,
   "id": "0e3690a5-ce87-464f-984e-29051b5077e1",
   "metadata": {},
   "outputs": [
    {
     "data": {
      "text/plain": [
       "dict_values(['ict', 'tvm'])"
      ]
     },
     "execution_count": 248,
     "metadata": {},
     "output_type": "execute_result"
    }
   ],
   "source": [
    "data.values()"
   ]
  },
  {
   "cell_type": "code",
   "execution_count": 250,
   "id": "7c70a0a4-8c65-423a-8595-51a710990fb5",
   "metadata": {},
   "outputs": [
    {
     "data": {
      "text/plain": [
       "dict_values(['niranjana', 22, 99999999999, 'kerala'])"
      ]
     },
     "execution_count": 250,
     "metadata": {},
     "output_type": "execute_result"
    }
   ],
   "source": [
    "contact.values()"
   ]
  },
  {
   "cell_type": "code",
   "execution_count": 252,
   "id": "84feac49-be34-4366-ae93-f31c092dc44d",
   "metadata": {},
   "outputs": [],
   "source": [
    "#set                                  #set (no repeated element)"
   ]
  },
  {
   "cell_type": "code",
   "execution_count": 261,
   "id": "c783dcba-1aae-4159-a3e9-5bfbfcf66e5e",
   "metadata": {},
   "outputs": [
    {
     "data": {
      "text/plain": [
       "{1, 2, 3, 4, 5, 6, 7, 8, 9, 10}"
      ]
     },
     "execution_count": 261,
     "metadata": {},
     "output_type": "execute_result"
    }
   ],
   "source": [
    "my_list=[1, 2, 3, 4, 5, 6, 7,8, 9, 10, 1, 2, 3]\n",
    "set(my_list)"
   ]
  },
  {
   "cell_type": "code",
   "execution_count": null,
   "id": "3c0de540-f70e-4b6b-a4a8-09f2515ee71e",
   "metadata": {},
   "outputs": [],
   "source": [
    "#boolean                         #boolean"
   ]
  },
  {
   "cell_type": "code",
   "execution_count": 263,
   "id": "98dd968d-bda5-48e5-9a39-ce6c2ec8da49",
   "metadata": {},
   "outputs": [
    {
     "name": "stdout",
     "output_type": "stream",
     "text": [
      "False\n"
     ]
    }
   ],
   "source": [
    "print(20>30)"
   ]
  },
  {
   "cell_type": "code",
   "execution_count": 265,
   "id": "dcd0ca0e-1f06-41cd-a239-09ad7187c8e6",
   "metadata": {},
   "outputs": [
    {
     "name": "stdout",
     "output_type": "stream",
     "text": [
      "True\n"
     ]
    }
   ],
   "source": [
    "print(20>10)"
   ]
  },
  {
   "cell_type": "markdown",
   "id": "7cdf2c0c-373c-4a31-b81a-e7cdc3c66c26",
   "metadata": {},
   "source": [
    "# python operators"
   ]
  },
  {
   "cell_type": "code",
   "execution_count": 268,
   "id": "a6f536d5-3d06-4251-bfdd-59cd7a0d726d",
   "metadata": {},
   "outputs": [
    {
     "name": "stdout",
     "output_type": "stream",
     "text": [
      "30\n"
     ]
    }
   ],
   "source": [
    "a=10\n",
    "b=20\n",
    "print(a+b)      #arithmetic operator"
   ]
  },
  {
   "cell_type": "code",
   "execution_count": 270,
   "id": "e5a017a1-d202-4233-a08b-d33a0cd53f9f",
   "metadata": {},
   "outputs": [
    {
     "name": "stdout",
     "output_type": "stream",
     "text": [
      "False\n"
     ]
    }
   ],
   "source": [
    "print(a==b)         #comparison operator"
   ]
  },
  {
   "cell_type": "code",
   "execution_count": 272,
   "id": "62d6b002-155e-4156-9c7c-8ee978abc676",
   "metadata": {},
   "outputs": [
    {
     "name": "stdout",
     "output_type": "stream",
     "text": [
      "True\n"
     ]
    }
   ],
   "source": [
    "print(a<b)"
   ]
  },
  {
   "cell_type": "code",
   "execution_count": 280,
   "id": "607a56fd-abbd-4c9d-a128-a2a00cdddd6a",
   "metadata": {},
   "outputs": [
    {
     "name": "stdout",
     "output_type": "stream",
     "text": [
      "1\n"
     ]
    }
   ],
   "source": [
    "c=3\n",
    "d=a%c \n",
    "print(d)               #modulus operator"
   ]
  },
  {
   "cell_type": "code",
   "execution_count": 282,
   "id": "0ef89716-0cb7-485f-9870-945657c38c01",
   "metadata": {},
   "outputs": [
    {
     "name": "stdout",
     "output_type": "stream",
     "text": [
      "100000000000000000000\n"
     ]
    }
   ],
   "source": [
    "d=a**b\n",
    "print(d)               #exponent operator"
   ]
  },
  {
   "cell_type": "code",
   "execution_count": 284,
   "id": "81186c76-2df2-47e2-b075-79e3b1242837",
   "metadata": {},
   "outputs": [
    {
     "name": "stdout",
     "output_type": "stream",
     "text": [
      "True\n"
     ]
    }
   ],
   "source": [
    "print(2 in [2,4,6])            #exponent operator"
   ]
  },
  {
   "cell_type": "code",
   "execution_count": 286,
   "id": "fa2d3637-2ced-4b49-9ea3-17ca7a0ed891",
   "metadata": {},
   "outputs": [
    {
     "name": "stdout",
     "output_type": "stream",
     "text": [
      "False\n"
     ]
    }
   ],
   "source": [
    "print(2 in [1,3,5])"
   ]
  },
  {
   "cell_type": "raw",
   "id": "54c51b1b-9f5a-407e-8c38-d3472774f919",
   "metadata": {},
   "source": [
    "write a code to check whether a given number in a variable is odd?"
   ]
  },
  {
   "cell_type": "code",
   "execution_count": 288,
   "id": "a32e62a1-f888-4411-8747-71c9b2b2e04f",
   "metadata": {},
   "outputs": [
    {
     "name": "stdout",
     "output_type": "stream",
     "text": [
      "True\n"
     ]
    }
   ],
   "source": [
    "a=10\n",
    "print(a%2==0)"
   ]
  },
  {
   "cell_type": "code",
   "execution_count": 290,
   "id": "112b8619-3824-485d-8efe-71cef8dbad9c",
   "metadata": {},
   "outputs": [
    {
     "name": "stdout",
     "output_type": "stream",
     "text": [
      "False\n"
     ]
    }
   ],
   "source": [
    "a=9\n",
    "print(a%2==0)"
   ]
  },
  {
   "cell_type": "code",
   "execution_count": 294,
   "id": "418d1fce-3ab0-4fd8-b989-e1bc7616dac8",
   "metadata": {},
   "outputs": [
    {
     "name": "stdout",
     "output_type": "stream",
     "text": [
      "True\n"
     ]
    }
   ],
   "source": [
    "print((a%2)!=0)"
   ]
  },
  {
   "cell_type": "raw",
   "id": "2b60ed45-71a8-4d4c-b18a-ad6b1960648a",
   "metadata": {},
   "source": [
    "write a code to check whether a given number is odd and divisible by 9?"
   ]
  },
  {
   "cell_type": "code",
   "execution_count": 296,
   "id": "9c8fce1d-25bf-44f3-8ccb-0250f265c83a",
   "metadata": {},
   "outputs": [
    {
     "name": "stdout",
     "output_type": "stream",
     "text": [
      "True\n"
     ]
    }
   ],
   "source": [
    "a=27\n",
    "print(a%9==0 and a%2!=0)"
   ]
  },
  {
   "cell_type": "raw",
   "id": "a781cfd2-930f-475e-9ec1-fffd5a65217d",
   "metadata": {},
   "source": [
    "write a code to know if a given string has more than 10 characters?"
   ]
  },
  {
   "cell_type": "code",
   "execution_count": 304,
   "id": "1627fc08-439f-4f6c-9101-4871b8e214a9",
   "metadata": {},
   "outputs": [
    {
     "name": "stdout",
     "output_type": "stream",
     "text": [
      "10\n",
      "True\n"
     ]
    }
   ],
   "source": [
    "x=\"abcdefghij\"\n",
    "print(len(x))  \n",
    "print(len(x)==10)"
   ]
  },
  {
   "cell_type": "raw",
   "id": "aee152c9-82ef-4650-9f30-04535badc4d6",
   "metadata": {},
   "source": [
    "indexing operation"
   ]
  },
  {
   "cell_type": "code",
   "execution_count": 308,
   "id": "7f9b6fb2-3edf-4cbf-aba2-6bf2dd1d0816",
   "metadata": {},
   "outputs": [
    {
     "data": {
      "text/plain": [
       "'ict academy'"
      ]
     },
     "execution_count": 308,
     "metadata": {},
     "output_type": "execute_result"
    }
   ],
   "source": [
    "y='ict academy'\n",
    "y[ : : ]"
   ]
  },
  {
   "cell_type": "code",
   "execution_count": 310,
   "id": "911fbde2-fdf4-4d8b-95f4-cd2fb72173c2",
   "metadata": {},
   "outputs": [
    {
     "data": {
      "text/plain": [
       "'t academy'"
      ]
     },
     "execution_count": 310,
     "metadata": {},
     "output_type": "execute_result"
    }
   ],
   "source": [
    "y[2: : ]"
   ]
  },
  {
   "cell_type": "code",
   "execution_count": 318,
   "id": "8c44a587-c6c0-446c-9ab9-4ff8475e8e8d",
   "metadata": {},
   "outputs": [
    {
     "data": {
      "text/plain": [
       "'ta'"
      ]
     },
     "execution_count": 318,
     "metadata": {},
     "output_type": "execute_result"
    }
   ],
   "source": [
    "y[2:5:2]"
   ]
  },
  {
   "cell_type": "raw",
   "id": "ddd47676-5c64-42b9-8953-4d44317d021b",
   "metadata": {},
   "source": [
    "conditional statement"
   ]
  },
  {
   "cell_type": "code",
   "execution_count": 326,
   "id": "0858ae5a-4035-4151-ab4c-eb51a759d76a",
   "metadata": {},
   "outputs": [
    {
     "name": "stdout",
     "output_type": "stream",
     "text": [
      "correct\n"
     ]
    }
   ],
   "source": [
    "z=2\n",
    "if(z>0):\n",
    "    print('correct')\n",
    "else:\n",
    "    print('false')"
   ]
  },
  {
   "cell_type": "raw",
   "id": "6bf8aa1a-398a-417b-8c9a-8f734c625947",
   "metadata": {},
   "source": [
    "write a code to check a given string is palindrome or not"
   ]
  },
  {
   "cell_type": "code",
   "execution_count": 352,
   "id": "02f55668-f5f9-424d-88d8-7b05cd75ac2d",
   "metadata": {},
   "outputs": [
    {
     "name": "stdout",
     "output_type": "stream",
     "text": [
      "True\n"
     ]
    }
   ],
   "source": [
    "y=\"abcba\"\n",
    "print(y[ : :-1]==y)"
   ]
  },
  {
   "cell_type": "code",
   "execution_count": 356,
   "id": "ff8c0fe3-4501-474b-8e8d-dd0dd7ac5dfe",
   "metadata": {},
   "outputs": [
    {
     "name": "stdout",
     "output_type": "stream",
     "text": [
      "palindrome\n"
     ]
    }
   ],
   "source": [
    "y=\"malayalam\" \n",
    "if(y==y[ : :-1]):\n",
    "    print(\"palindrome\") \n",
    "else: \n",
    "    print(\"not palindrome\")"
   ]
  },
  {
   "cell_type": "code",
   "execution_count": null,
   "id": "22c877fa-4726-4c72-a7f8-b84be83a6ce8",
   "metadata": {},
   "outputs": [],
   "source": []
  }
 ],
 "metadata": {
  "kernelspec": {
   "display_name": "Python 3 (ipykernel)",
   "language": "python",
   "name": "python3"
  },
  "language_info": {
   "codemirror_mode": {
    "name": "ipython",
    "version": 3
   },
   "file_extension": ".py",
   "mimetype": "text/x-python",
   "name": "python",
   "nbconvert_exporter": "python",
   "pygments_lexer": "ipython3",
   "version": "3.12.7"
  }
 },
 "nbformat": 4,
 "nbformat_minor": 5
}
