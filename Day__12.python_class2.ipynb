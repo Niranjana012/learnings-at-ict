{
 "cells": [
  {
   "cell_type": "raw",
   "id": "ad0bdf32-4e56-4de8-9895-f8d5fc925758",
   "metadata": {},
   "source": [
    "iterations in python are while loop and for loop"
   ]
  },
  {
   "cell_type": "code",
   "execution_count": 5,
   "id": "bf560f16-e073-4b7b-8e20-d966daa4beb6",
   "metadata": {},
   "outputs": [
    {
     "name": "stdout",
     "output_type": "stream",
     "text": [
      "hello\n",
      "hello\n",
      "hello\n",
      "hello\n",
      "hello\n"
     ]
    }
   ],
   "source": [
    "i=1\n",
    "while i<6:\n",
    "    print(\"hello\")\n",
    "    i=i+1                         #while loop"
   ]
  },
  {
   "cell_type": "code",
   "execution_count": 7,
   "id": "733f4628-72a3-4866-b44d-77df3ea7d5d5",
   "metadata": {},
   "outputs": [
    {
     "name": "stdout",
     "output_type": "stream",
     "text": [
      "hello\n",
      "hello\n"
     ]
    }
   ],
   "source": [
    "i=1\n",
    "while i<6:\n",
    "    print(\"hello\")\n",
    "    i=i+3"
   ]
  },
  {
   "cell_type": "code",
   "execution_count": 9,
   "id": "0b5cfad2-1958-4ffc-a9e0-60c308e1c31f",
   "metadata": {},
   "outputs": [
    {
     "name": "stdout",
     "output_type": "stream",
     "text": [
      "1\n",
      "2\n",
      "3\n",
      "4\n",
      "5\n",
      "6\n",
      "7\n",
      "8\n"
     ]
    }
   ],
   "source": [
    "numbers=[1, 2, 3, 4, 5, 6, 7, 8] \n",
    "for i in numbers:                              #for loop\n",
    "    print(i)"
   ]
  },
  {
   "cell_type": "code",
   "execution_count": 11,
   "id": "a71cc887-64bd-4a1e-aff2-d1afe5d8659a",
   "metadata": {},
   "outputs": [
    {
     "name": "stdout",
     "output_type": "stream",
     "text": [
      "0\n",
      "1\n",
      "2\n",
      "3\n",
      "4\n",
      "5\n",
      "6\n",
      "7\n",
      "8\n",
      "9\n",
      "10\n",
      "11\n",
      "12\n"
     ]
    }
   ],
   "source": [
    "for i in range(0,13):\n",
    "    print(i)\n"
   ]
  },
  {
   "cell_type": "raw",
   "id": "c4aa5fc5-cfa3-41dd-a5ba-0ee6a1b58a1c",
   "metadata": {},
   "source": [
    "write a program to print \"hello\" 5 times with for loop?"
   ]
  },
  {
   "cell_type": "code",
   "execution_count": 3,
   "id": "ceef029a-7f9d-4a1a-8fed-2b95b3fab28a",
   "metadata": {},
   "outputs": [
    {
     "name": "stdout",
     "output_type": "stream",
     "text": [
      "hello\n",
      "hello\n",
      "hello\n",
      "hello\n",
      "hello\n"
     ]
    }
   ],
   "source": [
    "i='hello'\n",
    "for i in range(1,6):\n",
    "    print('hello')"
   ]
  },
  {
   "cell_type": "raw",
   "id": "d6c6a53b-8333-4672-b9cf-efdab4fca143",
   "metadata": {},
   "source": [
    "write a program to print 100,99,98,....2  with for loop?"
   ]
  },
  {
   "cell_type": "code",
   "execution_count": 43,
   "id": "71072964-20c1-4667-9c92-b9e8b8494535",
   "metadata": {},
   "outputs": [
    {
     "name": "stdout",
     "output_type": "stream",
     "text": [
      "100\n",
      "99\n",
      "98\n",
      "97\n",
      "96\n",
      "95\n",
      "94\n",
      "93\n",
      "92\n",
      "91\n",
      "90\n",
      "89\n",
      "88\n",
      "87\n",
      "86\n",
      "85\n",
      "84\n",
      "83\n",
      "82\n",
      "81\n",
      "80\n",
      "79\n",
      "78\n",
      "77\n",
      "76\n",
      "75\n",
      "74\n",
      "73\n",
      "72\n",
      "71\n",
      "70\n",
      "69\n",
      "68\n",
      "67\n",
      "66\n",
      "65\n",
      "64\n",
      "63\n",
      "62\n",
      "61\n",
      "60\n",
      "59\n",
      "58\n",
      "57\n",
      "56\n",
      "55\n",
      "54\n",
      "53\n",
      "52\n",
      "51\n",
      "50\n",
      "49\n",
      "48\n",
      "47\n",
      "46\n",
      "45\n",
      "44\n",
      "43\n",
      "42\n",
      "41\n",
      "40\n",
      "39\n",
      "38\n",
      "37\n",
      "36\n",
      "35\n",
      "34\n",
      "33\n",
      "32\n",
      "31\n",
      "30\n",
      "29\n",
      "28\n",
      "27\n",
      "26\n",
      "25\n",
      "24\n",
      "23\n",
      "22\n",
      "21\n",
      "20\n",
      "19\n",
      "18\n",
      "17\n",
      "16\n",
      "15\n",
      "14\n",
      "13\n",
      "12\n",
      "11\n",
      "10\n",
      "9\n",
      "8\n",
      "7\n",
      "6\n",
      "5\n",
      "4\n",
      "3\n",
      "2\n"
     ]
    }
   ],
   "source": [
    "\n",
    "for i in range(100,1,-1): \n",
    "    print(i)"
   ]
  },
  {
   "cell_type": "code",
   "execution_count": 57,
   "id": "cbfab0c3-719c-4a98-957d-ca943bfd2b84",
   "metadata": {},
   "outputs": [
    {
     "name": "stdout",
     "output_type": "stream",
     "text": [
      "100\n",
      "96\n",
      "94\n",
      "92\n",
      "90\n",
      "88\n",
      "86\n",
      "84\n",
      "82\n",
      "80\n",
      "78\n",
      "76\n",
      "74\n",
      "72\n",
      "70\n",
      "68\n",
      "66\n",
      "64\n",
      "62\n",
      "60\n",
      "58\n",
      "56\n",
      "54\n",
      "52\n",
      "50\n",
      "48\n",
      "46\n",
      "44\n",
      "42\n",
      "40\n",
      "38\n",
      "36\n",
      "34\n",
      "32\n",
      "30\n",
      "28\n",
      "26\n",
      "24\n",
      "22\n",
      "20\n",
      "18\n",
      "16\n",
      "14\n",
      "12\n",
      "10\n",
      "8\n",
      "6\n",
      "4\n",
      "2\n"
     ]
    }
   ],
   "source": [
    "for i in range(100,1,-2):\n",
    "    if i==98:\n",
    "        continue\n",
    "    print(i)\n",
    "        "
   ]
  },
  {
   "cell_type": "code",
   "execution_count": 26,
   "id": "7942c863-ef08-4083-b745-57a934100930",
   "metadata": {},
   "outputs": [
    {
     "name": "stdout",
     "output_type": "stream",
     "text": [
      "100\n",
      "98\n",
      "96\n",
      "94\n",
      "92\n",
      "90\n",
      "88\n",
      "86\n",
      "84\n",
      "82\n"
     ]
    }
   ],
   "source": [
    "for i in range(100,1,-2):\n",
    "    if i==80:\n",
    "        break\n",
    "    print(i)"
   ]
  },
  {
   "cell_type": "code",
   "execution_count": 28,
   "id": "f6c5ba8f-b5bf-4bcc-9f36-a15809838378",
   "metadata": {},
   "outputs": [
    {
     "name": "stdout",
     "output_type": "stream",
     "text": [
      "1\n",
      "2\n",
      "outside of for loop\n"
     ]
    }
   ],
   "source": [
    "numbers=[1, 2, 3, 4, 5]\n",
    "for num in numbers:\n",
    "    if num==3:\n",
    "       break\n",
    "    print(num)\n",
    "print(\"outside of for loop\")"
   ]
  },
  {
   "cell_type": "code",
   "execution_count": 30,
   "id": "5bca9a56-c1b0-47e4-a10b-63858ce573d5",
   "metadata": {},
   "outputs": [
    {
     "name": "stdout",
     "output_type": "stream",
     "text": [
      "['False', 'None', 'True', 'and', 'as', 'assert', 'async', 'await', 'break', 'class', 'continue', 'def', 'del', 'elif', 'else', 'except', 'finally', 'for', 'from', 'global', 'if', 'import', 'in', 'is', 'lambda', 'nonlocal', 'not', 'or', 'pass', 'raise', 'return', 'try', 'while', 'with', 'yield']\n"
     ]
    }
   ],
   "source": [
    "import keyword\n",
    "print(keyword.kwlist)"
   ]
  },
  {
   "cell_type": "code",
   "execution_count": 32,
   "id": "b833a7c5-22a1-47c5-880a-c58ec8f4d8af",
   "metadata": {},
   "outputs": [
    {
     "name": "stdout",
     "output_type": "stream",
     "text": [
      "28\n"
     ]
    }
   ],
   "source": [
    "a=1+2+3+4+5\\\n",
    "+6+7\n",
    "print(a)"
   ]
  },
  {
   "cell_type": "code",
   "execution_count": 34,
   "id": "3e371911-9ab3-4b7f-bad5-b613cfd21163",
   "metadata": {},
   "outputs": [
    {
     "name": "stdout",
     "output_type": "stream",
     "text": [
      "ict 2024 DSA\n"
     ]
    }
   ],
   "source": [
    "x,y,z='ict',2024,'DSA' \n",
    "print(x,y,z)"
   ]
  },
  {
   "cell_type": "code",
   "execution_count": 36,
   "id": "567b5509-df14-40ae-9e9d-7cdf97cfc1d7",
   "metadata": {},
   "outputs": [
    {
     "name": "stdout",
     "output_type": "stream",
     "text": [
      "DSA\n"
     ]
    }
   ],
   "source": [
    "print(z)"
   ]
  },
  {
   "cell_type": "code",
   "execution_count": 42,
   "id": "024200c2-75b3-4ead-8476-5ada3d82c9ff",
   "metadata": {},
   "outputs": [
    {
     "name": "stdin",
     "output_type": "stream",
     "text": [
      "enter your name: niranjana\n"
     ]
    },
    {
     "name": "stdout",
     "output_type": "stream",
     "text": [
      "niranjana\n"
     ]
    }
   ],
   "source": [
    "\n",
    "name=(input('enter your name:'))\n",
    "print(name)"
   ]
  },
  {
   "cell_type": "code",
   "execution_count": 44,
   "id": "b70ed18d-aa97-42bb-9876-b30728586b74",
   "metadata": {},
   "outputs": [
    {
     "name": "stdin",
     "output_type": "stream",
     "text": [
      "please enter your name: niranjana\n"
     ]
    },
    {
     "name": "stdout",
     "output_type": "stream",
     "text": [
      "niranjana\n",
      "welcome niranjana\n"
     ]
    }
   ],
   "source": [
    "name=(input('please enter your name:'))\n",
    "print(name)\n",
    "print('welcome',name)"
   ]
  },
  {
   "cell_type": "code",
   "execution_count": 46,
   "id": "9c1d5495-736d-4212-83c5-684041a8198c",
   "metadata": {},
   "outputs": [
    {
     "name": "stdout",
     "output_type": "stream",
     "text": [
      "a,b\n",
      "a= 10\n",
      "b= 20\n"
     ]
    }
   ],
   "source": [
    "a=10\n",
    "b=20\n",
    "print('a'',''b')\n",
    "print(\"a=\",a)\n",
    "print(\"b=\",b)\n"
   ]
  },
  {
   "cell_type": "code",
   "execution_count": 48,
   "id": "fbf6cdee-46f6-490f-b897-30d2506ed30c",
   "metadata": {},
   "outputs": [
    {
     "name": "stdout",
     "output_type": "stream",
     "text": [
      "a=10 and b=20\n"
     ]
    }
   ],
   "source": [
    "print('a={} and b={}'.format(a,b))"
   ]
  },
  {
   "cell_type": "code",
   "execution_count": 50,
   "id": "7133dbfe-b45d-441e-a607-bf579d5ad6cc",
   "metadata": {},
   "outputs": [
    {
     "name": "stdout",
     "output_type": "stream",
     "text": [
      "a=10 and b=20\n"
     ]
    }
   ],
   "source": [
    "print(\"a={0} and b={1}\".format(a,b))"
   ]
  },
  {
   "cell_type": "code",
   "execution_count": 52,
   "id": "56f13acb-1ee0-4680-bae7-76163f0da227",
   "metadata": {},
   "outputs": [
    {
     "name": "stdout",
     "output_type": "stream",
     "text": [
      "hello niranjana, welcome to the DSA class.\n"
     ]
    }
   ],
   "source": [
    "print(\"hello {}, welcome to the DSA class.\".format(name))"
   ]
  },
  {
   "cell_type": "raw",
   "id": "f68209b3-8061-4584-b613-f5c444ce3875",
   "metadata": {},
   "source": [
    "write a program to print multiplication table(1-10) of a number input from user?"
   ]
  },
  {
   "cell_type": "code",
   "execution_count": 54,
   "id": "8c5a438f-7dbf-4262-9f05-3bf1033ac84e",
   "metadata": {},
   "outputs": [
    {
     "name": "stdin",
     "output_type": "stream",
     "text": [
      "enter the number: 12\n"
     ]
    },
    {
     "name": "stdout",
     "output_type": "stream",
     "text": [
      "multiplication table:\n",
      "12 x 0 = 0\n",
      "12 x 1 = 12\n",
      "12 x 2 = 24\n",
      "12 x 3 = 36\n",
      "12 x 4 = 48\n",
      "12 x 5 = 60\n",
      "12 x 6 = 72\n",
      "12 x 7 = 84\n",
      "12 x 8 = 96\n",
      "12 x 9 = 108\n"
     ]
    }
   ],
   "source": [
    "num=int((input(\"enter the number:\")))\n",
    "print(\"multiplication table:\")\n",
    "for i in range(0,10):\n",
    "    print(num,\"x\",i,'=',num*i)"
   ]
  },
  {
   "cell_type": "raw",
   "id": "f6c51c1e-10f1-4cc7-abc6-a4223e5993bb",
   "metadata": {},
   "source": [
    "function are of 2 types, builtin functions and custom function"
   ]
  },
  {
   "cell_type": "raw",
   "id": "6d447f67-454d-438a-a67b-f09d926069d6",
   "metadata": {},
   "source": [
    "def function_name(parameters)\n",
    "  statements\n",
    "  return value"
   ]
  },
  {
   "cell_type": "code",
   "execution_count": 56,
   "id": "c3792fba-423a-49e1-aa9e-1f2d3350572b",
   "metadata": {},
   "outputs": [],
   "source": [
    "def add_num(x,y): \n",
    "    z=x+y\n",
    "    return z"
   ]
  },
  {
   "cell_type": "code",
   "execution_count": 58,
   "id": "97f91ecd-7105-44f9-be78-0c44a708474e",
   "metadata": {},
   "outputs": [
    {
     "data": {
      "text/plain": [
       "10"
      ]
     },
     "execution_count": 58,
     "metadata": {},
     "output_type": "execute_result"
    }
   ],
   "source": [
    "add_num(1,9)\n",
    "    "
   ]
  },
  {
   "cell_type": "code",
   "execution_count": 60,
   "id": "a197db9e-315c-4b99-bceb-3e79728d33df",
   "metadata": {},
   "outputs": [
    {
     "data": {
      "text/plain": [
       "50"
      ]
     },
     "execution_count": 60,
     "metadata": {},
     "output_type": "execute_result"
    }
   ],
   "source": [
    "add_num(20,30)"
   ]
  },
  {
   "cell_type": "raw",
   "id": "6548c54c-6d8f-4d36-9c22-9569d58f4769",
   "metadata": {},
   "source": [
    "# without return "
   ]
  },
  {
   "cell_type": "code",
   "execution_count": 62,
   "id": "f230c90b-17e2-4b97-ac4a-41eecfbda7be",
   "metadata": {},
   "outputs": [],
   "source": [
    "def add_num(x,y): \n",
    "    '''this adds x and y'''     #Doc string or documentation string\n",
    "    z=x+y\n",
    "    print(z)\n",
    "    add_num(10,20)\n"
   ]
  },
  {
   "cell_type": "code",
   "execution_count": 64,
   "id": "730ac2c1-7157-4807-9ea2-108a79bfe1ca",
   "metadata": {},
   "outputs": [
    {
     "name": "stdout",
     "output_type": "stream",
     "text": [
      "this adds x and y\n"
     ]
    }
   ],
   "source": [
    "print(add_num.__doc__)"
   ]
  },
  {
   "cell_type": "code",
   "execution_count": 66,
   "id": "905b7c29-5582-45df-a5f0-5682bc775837",
   "metadata": {},
   "outputs": [
    {
     "name": "stdout",
     "output_type": "stream",
     "text": [
      "Return the number of items in a container.\n"
     ]
    }
   ],
   "source": [
    "print(len.__doc__)"
   ]
  },
  {
   "cell_type": "code",
   "execution_count": 68,
   "id": "209973e2-e32f-4b9a-82a1-efd0f261790e",
   "metadata": {},
   "outputs": [
    {
     "name": "stdout",
     "output_type": "stream",
     "text": [
      "range(stop) -> range object\n",
      "range(start, stop[, step]) -> range object\n",
      "\n",
      "Return an object that produces a sequence of integers from start (inclusive)\n",
      "to stop (exclusive) by step.  range(i, j) produces i, i+1, i+2, ..., j-1.\n",
      "start defaults to 0, and stop is omitted!  range(4) produces 0, 1, 2, 3.\n",
      "These are exactly the valid indices for a list of 4 elements.\n",
      "When step is given, it specifies the increment (or decrement).\n"
     ]
    }
   ],
   "source": [
    "print(range.__doc__)"
   ]
  },
  {
   "cell_type": "code",
   "execution_count": 70,
   "id": "3d2c7d46-509b-4cca-8b8f-40d9636b10fe",
   "metadata": {},
   "outputs": [
    {
     "data": {
      "text/plain": [
       "3.0"
      ]
     },
     "execution_count": 70,
     "metadata": {},
     "output_type": "execute_result"
    }
   ],
   "source": [
    "import math\n",
    "math.sqrt(9)"
   ]
  },
  {
   "cell_type": "code",
   "execution_count": null,
   "id": "1f4dcd6e-a4cf-4300-beab-0b4c93f3084f",
   "metadata": {},
   "outputs": [],
   "source": []
  },
  {
   "cell_type": "code",
   "execution_count": 73,
   "id": "8eb611e0-3d0d-45dc-aa3d-0642c5ffd020",
   "metadata": {},
   "outputs": [
    {
     "data": {
      "text/plain": [
       "<function __main__.mean(x)>"
      ]
     },
     "execution_count": 73,
     "metadata": {},
     "output_type": "execute_result"
    }
   ],
   "source": [
    "mean"
   ]
  },
  {
   "cell_type": "code",
   "execution_count": 75,
   "id": "b3ca8574-f4cd-4e9c-8439-9069fd584f3f",
   "metadata": {},
   "outputs": [
    {
     "data": {
      "text/plain": [
       "0.2"
      ]
     },
     "execution_count": 75,
     "metadata": {},
     "output_type": "execute_result"
    }
   ],
   "source": [
    "x=[3, 4, -7, 0, 1] \n",
    "def mean(x):\n",
    "    y=sum(x)\n",
    "    n=len(x)\n",
    "    m=y/n\n",
    "    return m\n",
    "mean(x)"
   ]
  },
  {
   "cell_type": "raw",
   "id": "5ea16290-b35d-482c-8237-3728047010ea",
   "metadata": {},
   "source": [
    "varience"
   ]
  },
  {
   "cell_type": "code",
   "execution_count": 81,
   "id": "381a8fac-f65c-4715-81bb-a5195dbf1225",
   "metadata": {},
   "outputs": [
    {
     "name": "stdout",
     "output_type": "stream",
     "text": [
      "variance: 14.959999999999999\n"
     ]
    }
   ],
   "source": [
    "\n",
    "m=mean(x)\n",
    "def var(x):\n",
    "    b=sum((i-m)**2 for i in x)/len(x)\n",
    "    return b\n",
    "print(\"variance:\",var(x))\n",
    " \n",
    "   \n"
   ]
  },
  {
   "cell_type": "code",
   "execution_count": null,
   "id": "138da12c-6400-41cf-8aab-d3a463c98ae4",
   "metadata": {},
   "outputs": [],
   "source": []
  },
  {
   "cell_type": "code",
   "execution_count": null,
   "id": "987ea8f5-5a11-4b1b-9548-0bf99c6217af",
   "metadata": {},
   "outputs": [],
   "source": [
    "\n",
    "        "
   ]
  },
  {
   "cell_type": "code",
   "execution_count": null,
   "id": "1e510d89-0b0c-4d18-851c-c21b24156724",
   "metadata": {},
   "outputs": [],
   "source": []
  },
  {
   "cell_type": "code",
   "execution_count": null,
   "id": "c12a3512-c601-496a-8dcd-51d78e40dfd0",
   "metadata": {},
   "outputs": [],
   "source": []
  }
 ],
 "metadata": {
  "kernelspec": {
   "display_name": "Python 3 (ipykernel)",
   "language": "python",
   "name": "python3"
  },
  "language_info": {
   "codemirror_mode": {
    "name": "ipython",
    "version": 3
   },
   "file_extension": ".py",
   "mimetype": "text/x-python",
   "name": "python",
   "nbconvert_exporter": "python",
   "pygments_lexer": "ipython3",
   "version": "3.12.7"
  }
 },
 "nbformat": 4,
 "nbformat_minor": 5
}
